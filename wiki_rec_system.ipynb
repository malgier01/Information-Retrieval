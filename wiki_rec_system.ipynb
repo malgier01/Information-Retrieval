{
  "nbformat": 4,
  "nbformat_minor": 0,
  "metadata": {
    "colab": {
      "provenance": []
    },
    "kernelspec": {
      "name": "python3",
      "display_name": "Python 3"
    },
    "language_info": {
      "name": "python"
    }
  },
  "cells": [
    {
      "cell_type": "markdown",
      "source": [
        "# Part 1a: web crawling"
      ],
      "metadata": {
        "id": "lczG0AIVhQMM"
      }
    },
    {
      "cell_type": "code",
      "execution_count": null,
      "metadata": {
        "id": "9zDKt1SbhJUi"
      },
      "outputs": [],
      "source": [
        "#imports\n",
        "import requests\n",
        "import bs4\n",
        "import re\n",
        "from time import sleep\n",
        "import random\n",
        "import networkx as nx"
      ]
    },
    {
      "cell_type": "code",
      "source": [
        "links = [\"https://pl.wikipedia.org/wiki/Jimmy_Carter\",\n",
        "         \"https://pl.wikipedia.org/wiki/Utw%C3%B3r_muzyczny\",\n",
        "         \"https://pl.wikipedia.org/wiki/Chironius_multiventris\"]\n",
        "\n",
        "for link in links:\n",
        "  response = requests.get(link)\n",
        "  parsed = bs4.BeautifulSoup(response.text)\n",
        "  #here create file named like link\n",
        "  #maybe get the title\n",
        "  for p in parsed.select('p'):\n",
        "    print(p.getText())"
      ],
      "metadata": {
        "colab": {
          "base_uri": "https://localhost:8080/"
        },
        "id": "0-B5nEvCCEpE",
        "outputId": "ce4ed41d-c6d7-42f0-af72-d948d12b9bde"
      },
      "execution_count": null,
      "outputs": [
        {
          "output_type": "stream",
          "name": "stdout",
          "text": [
            "James Earl Carter Jr.\n",
            "\n",
            "1 października 1924 Plains\n",
            "\n",
            "29 grudnia 2024 Plains \n",
            "\n",
            "od 20 stycznia 1977 do 20 stycznia 1981\n",
            "\n",
            "Partia Demokratyczna\n",
            "\n",
            "Rosalynn Smith\n",
            "\n",
            "Walter Mondale\n",
            "\n",
            "Gerald Ford\n",
            "\n",
            "Ronald Reagan\n",
            "\n",
            "od 12 stycznia 1971 do 14 stycznia 1975\n",
            "\n",
            "Lester Maddox\n",
            "\n",
            "George Busbee\n",
            "\n",
            "Jimmy Carter, właśc. James Earl Carter Jr. (ur. 1 października 1924 w Plains, zm. 29 grudnia 2024 tamże[1]) – amerykański polityk, działacz Partii Demokratycznej, 39. prezydent Stanów Zjednoczonych w latach 1977–1981, a także międzynarodowy działacz humanitarny i na rzecz praw człowieka, laureat Pokojowej Nagrody Nobla w 2002. Był najdłużej żyjącym prezydentem w historii USA﻿(inne języki) i pierwszym, który dożył 100 lat[2].\n",
            "\n",
            "Urodził się 1 października 1924 roku w Plains w stanie Georgia, o godzinie 7:00 w miejscowym szpitalu; został przez to pierwszym w historii prezydentem Stanów Zjednoczonych, który przyszedł na świat w szpitalu[3]. Syn plantatora orzeszków ziemnych i późniejszego polityka Jamesa Earla Cartera Sr.﻿(inne języki) (1894–1953) oraz jego żony, pielęgniarki Lillian﻿(inne języki) (1898–1983)[4]. Miał troje młodszego rodzeństwa: siostry Glorię﻿(inne języki) (1926–1990) i Ruth﻿(inne języki) (1929–1983) oraz brata Billy’ego﻿(inne języki) (1937–1988) – wszyscy zmarli przedwcześnie na raka trzustki, podobnie jak i ojciec Jimmy’ego[5].\n",
            "\n",
            "Uczęszczał do lokalnych szkół, gdzie segregacja rasowa była na porządku dziennym[4]. Po ukończeniu podstawowej edukacji wstąpił na Georgia Southwestern State University i Georgia Institute of Technology, a w 1943 roku dostał się do Akademii Marynarki Wojennej w Annapolis[4]. Tę ostatnią uczelnię ukończył w 1947 roku i uzyskał stopień inżyniera z dziedziny fizyki jądrowej[6].\n",
            "\n",
            "W 1950 został oddelegowany do służby na okręcie podwodnym USS K-1, pod dowództwo Hymana Rickovera[6]. Następnie dostał się do służby na atomowym okręcie podwodnym USS Seawolf[6]. Po śmierci ojca postanowił zakończyć służbę wojskową i osiadł w rodzinnej miejscowości, przejmując plantację orzeszków ziemnych[6]. Już wówczas sprzeciwiał się segregacji rasowej, która na głębokim Południu była codziennością[7]. Sytuacja zaostrzyła się, gdy Carter odmówił wstąpienia do Rady Białych Obywateli – klienci przestali kupować jego towary, a banki nie chciały udzielać kredytów[7].\n",
            "\n",
            "W latach 50. XX wieku Carter zainteresował się polityką i postanowił kandydować do legislatury stanowej Georgii[7]. Przegrał wybory, jednak zażądał powtórzenia wyborów w jednym z hrabstw, gdzie miało dojść do fałszowania wyników[7]. Udało mu się doprowadzić do powtórki głosowania i tym razem wybory wygrał[7]. W czasie czterech lat spędzonych w Senacie stanowym, zajmował się głównie sprawami z zakresu edukacji[7].\n",
            "\n",
            "W 1966 roku postanowił kandydować do Izby Reprezentantów, ale zmienił zdanie i został kandydatem na gubernatora Georgii z ramienia Partii Demokratycznej[8]. Pomimo intensywnie prowadzonej kampanii wyborczej, przegrał wybory na rzecz Lestera Maddoxa[8]. Przez cztery kolejne lata przygotowywał się do kolejnej kampanii wyborczej, którą zwieńczył sukcesem i zwycięstwem w wyborach[8]. Gubernatorem był w latach 1971–1975 i w tym czasie walczył z dyskryminacją rasową, m.in. poprzez mianowanie Afroamerykanów na wysokie stanowiska stanowej władzy wykonawczej[9]. Ponadto usprawnił działanie systemu sprawiedliwości, wprowadził nowe zasady polityki ekonomicznej i zreorganizował władze stanowe[9]. Pomimo skutecznej działalności gubernatorskiej, nie był zbyt popularny[9]. Pod koniec 1974 roku oznajmił, że nie będzie ubiegać się o reelekcję, gdyż chce wystartować w wyborach prezydenckich w 1976 roku[9]. Ponieważ nikt nie uważał, by Carter miał realne szanse na zwycięstwo, nazywano go wówczas „Jimmy Kto?” (Jimmy Who?)[9].\n",
            "\n",
            "W prawyborach odbywających się w stanach południowych udało mu się pokonać najgroźniejszego rywala – George’a Wallace’a[10]. Głównych kandydatów do nominacji Partii Demokratycznej oprócz Cartera było czterech: Henry Jackson, Fred R. Harris, Morris Udall i Pat Brown[10]. Na lipcowej konwencji demokratów w Nowym Jorku uzyskał nominację w pierwszym głosowaniu[10]. Kandydatem na wiceprezydenta został Walter Mondale[11]. Głównym rywalem Cartera był urzędujący prezydent Gerald Ford z Partii Republikańskiej[11]. W kampanii wyborczej Carter podkreślał potrzeby reorganizacji gabinetu, reformy podatkowej, zmniejszenia bezrobocia i wprowadzenia systemu opieki zdrowotnej[11]. W zakresie polityki zagranicznej opowiadał się za odprężęniem w relacjach amerykańsko-radzieckich[11]. W głosowaniu powszechnym uzyskał ponad 40 milionów głosów wobec 38,5 miliona dla Forda[12]. W Kolegium Elektorskim na demokratę zagłosowało 297 elektorów, a na republikanina – 240[12]. Carter został zaprzysiężony 20 stycznia 1977 roku[13].\n",
            "\n",
            "Do swojego gabinetu powołał m.in. Cyrusa Vance’a (sekretarz stanu), Harolda Browna (sekretarza obrony), Michaela Blumenthala (sekretarz skarbu), Hamiltona Jordana (szef personelu Białego Domu) i Zbigniewa Brzezińskiego (doradca ds. bezpieczeństwa narodowego)[13]. W celu przeciwdziałania rasizmowi mianował czarnoskórego Andrew Younga na stanowisko ambasadora Stanów Zjednoczonych przy ONZ[13]. Z powodu kontrowersyjnych poglądów Young był atakowany przez prawicę i ustąpił ze stanowiska[13]. Carter na jego miejsce powołał także Afroamerykanina – Donalda McHenry’ego[13]. Członkiem rządu Cartera został jeszcze inny czarnoskóry polityk – Clifford Alexander (sekretarz sił morskich)[14]. Prezydent popierał także równouprawnienie płci, dlatego mianował Juanitę Morris Kreps sekretarzem handlu, Patricię Roberts Harris sekretarzem budownictwa, a Shirley Hufstedler sekretarzem oświaty[14].\n",
            "\n",
            "W zakresie polityki wewnętrznej Carter musiał uporać się ze skutkami recesji gospodarczej z pierwszej połowy lat 70., której objawami były: wysoka stopa bezrobocia, inflacji i kryzys energetyczny[15]. Pierwszym krokiem prezydenta była próba zmniejszenia bezrobocia poprzez ożywienie gospodarki – postanowił obniżyć podatki, by zachęcić biznesmenów do inwestycji[15]. Następnie skupił się na problemie inflacji, której wskaźnik wynosił około 7% w 1977 roku[15]. Ponieważ odrzucił program kontroli cen i płac, inflacja zaczęła rosnąć i w 1980 roku wynosiła 18%[15]. Wobec tego prezydent postanowił zarządzić cięcia budżetowe, opiewające na 14 miliardów dolarów, ograniczenia kredytowe i wprowadzić podatek na importowaną ropę naftową[16]. Program antyinflacyjny został skrytykowany przez ekonomistów i związki zawodowe, które uważały, że wysoka stopa inflacji jest skutkiem działań wielkiego kapitału, a jej ofiarami są robotnicy[16].\n",
            "\n",
            "Drugim problemem gospodarczym były skutki kryzysu energetycznego[16]. Prezydent zaproponował program oszczędzania energii, bazujący na wymianie samochodów na bardziej ekonomiczne, izolację termiczną domów i zakładów pracy oraz zmianę głównego surowca energetycznego na węgiel (z ropy naftowej i gazu)[16]. Ponadto utworzył Departament Energii, którego sekretarzem został James Schlesinger[16]. Aby zachęcić społeczeństwo do realizacji założeń, prezydent odwoływał się do patriotyzmu[16]. Koła biznesu jednak ostro oponowały przeciw temu programowi i lobbowały, by Senat go odrzucił[17]. Ostatecznie prezydent musiał pójść na kompromis i izba wyższa przyjęła projekty, ale znacznie odbiegały one od początkowych założeń[17]. W czasie, gdy program był przedmiotem debat w Kongresie, miał miejsce niemalże czteromiesięczny strajk górników węglowych[17]. Carter na początku nie chciał interweniować, licząc na porozumienie, jednak ostatecznie przerwał strajk, nakazując górnikom powrót do pracy[17]. Decyzja ta nie przysporzyła mu popularności – krytykowali go zarówno zwolennicy, jak i przeciwnicy protestu[17].\n",
            "\n",
            "Jedną z pierwszych inicjatyw w polityce zagranicznej nowej administracji było dokończenie rozmów ze Związkiem Radzieckim w sprawie podpisania układu SALT II, rozpoczętych jeszcze za kadencji Geralda Forda[18]. W tym celu Cyrus Vance pojechał do Moskwy, gdzie przedstawił projekt traktatu, zakładający zmniejszenie liczby rakiet balistycznych bazujących na lądzie[18]. W ZSRR około 80% arsenału jądrowego to były właśnie takie rakiety, natomiast w USA ten ułamek wynosił jedynie 23%[18]. Ponieważ oba państwa miały zredukować jednakową liczbę rakiet, Związek Radziecki nie zgodził się na tę propozycję, z uwagi na złamanie zasady równego bezpieczeństwa[18]. Carter usiłował wymusić rozwiązanie bardziej korzystne dla Stanów Zjednoczonych, dlatego negocjacje w tej sprawie się przedłużały[19]. Udało się je zakończyć dopiero 9 maja 1979 roku[19]. Akt zawarcia porozumienia został podpisany 18 czerwca przez prezydenta USA i I sekretarza KPZR Leonida Breżniewa[19]. Z uwagi na silną opozycję wobec SALT II w kołach amerykańskich przeciwników polityki odprężenia, mobilizowano senatorów, by nie poparli ratyfikacji[19]. Ponieważ Carter był świadomy, że Senat nie będzie w stanie przegłosować układu, nakazał wycofanie go z porządku obrad, pod pretekstem wstrzymania go z powodu radzieckiej interwencji w Afganistanie[19].\n",
            "\n",
            "We wrześniu 1977 prezydent podpisał dwa traktaty z rządem Panamy, regulując sytuację Kanału Panamskiego[20]. W układach tych zawarto klauzulę, mówiącą o tym, że Panama odzyska pełną kontrolę nad Kanałem w 2000 roku[20]. Konserwatywni republikanie uznali decyzję prezydenta za zdradę interesów amerykańskich i rozpoczęli agitację, by Senat nie ratyfikował układów[20]. Dzięki wsparciu postępowych republikanów jak Gerald Ford czy Henry Kissinger, izba wyższa zaaprobowała porozumienia wiosną 1978 roku, a latem 1979 – przyjęła go Izba Reprezentantów[20].\n",
            "\n",
            "Podobnie jak poprzednicy, Carter zaangażował się w rozwiązanie konfliktu na Bliskim Wschodzie[20]. W pierwszej połowie 1977 roku spotkał się z premierem Izraela Icchakiem Rabinem, prezydentem Egiptu Anwarem as-Sadatem oraz królem Jordanii Husajnem ibn Talalem[20]. 27 czerwca administracja centralna oświadczyła, że zawarcie pokoju na Bliskim Wschodzie jest możliwe dzięki rezolucji Rady Bezpieczeństwa nr 242[21]. Zakładała ona wycofanie się wojsk izraelskich z Półwyspu Synaj, Strefy Gazy, Wzgórz Golan i Zachodniego Brzegu Jordanu (Cisjordanii)[21]. Dodatkowo konieczne było rozwiązanie kwestii palestyńskiej[21]. Latem i zimą 1977 wizytował w Waszyngtonie nowy premier Izraela Menachem Begin, który zaproponował Carterowi plan pokojowy, zakładający zwrot większości Półwyspu Synajskiego przy zachowaniu Cisjordanii[21]. Pod koniec grudnia prezydent udał się z wizytą do Iranu i Arabii Saudyjskiej, gdzie 4 stycznia 1978 spotkał się z Anwarem Sadatem i przedstawił mu propozycję premiera Begina[22]. Jesienią 1978 roku w Camp David i Blair House odbyły się rozmowy trójstronne z udziałem Cartera, Begina i Sadata[22]. W lutym 1979 roku prezydent USA negocjował z Beginem i premierem Egiptu Mustafą Chalilem[22]. W marcu propozycje pokojowe zaakceptowały: rząd egipski, rząd izraelski i Kneset[22]. Traktat pokojowy kończący wojnę Izraela z Egiptem podpisano 26 marca[22]. W układzie nie rozwiązano jednak problemu Organizacji Wyzwolenia Palestyny, choć Izrael zgodził się na ograniczoną autonomię Cisjordanii i strefy Gazy[23]. Wszystkie kraje arabskie potępiły traktat, wstrzymały pomoc gospodarczą i dostawy ropy naftowej dla Egiptu i dążyły do wykluczenia go z Ligi Arabskiej[23]. Ostatecznie próba załagodzenia konfliktu bliskowschodniego doprowadziła do pogłębienia podziałów[23].\n",
            "\n",
            "Prezydent dążył do unormowania stosunków dyplomatycznych z Chińską Republiką Ludową[23]. W tym celu władze w Pekinie odwiedzili Cyrus Vance i Zbigniew Brzeziński[23]. Ponieważ USA wspierały Republikę Chińską, władze ChRL były sceptycznie nastawione[24]. 1 stycznia 1979 roku Carter uznał władze w Pekinie jako jedyny rząd, co umożliwiło nawiązanie formalnych stosunków dyplomatycznych i mianowanie ambasadorów[24]. Mimo to, władze w Waszyngtonie kontynuowały wspieranie Tajwanu[24].\n",
            "\n",
            "Carter ułaskawił obywateli amerykańskich, którzy uchylali się od obowiązku służby wojskowej w czasie wojny wietnamskiej[24]. Ponadto chciał wycofać część wojsk z Korei Południowej, co spotkało się ze sprzeciwem kół przemysłowo-wojskowych[24]. Lobby twierdziło, że kraje socjalistyczne się zbroją, więc Stany Zjednoczone nie mogą postępować odwrotnie[24]. Prezydent ugiął się pod naciskiem tej agitacji i w 1978 roku zmienił swoje postępowanie[24]. Zwiększył roczny budżet wojskowy, a następnie z jego inicjatywy Rada Ministerialna Paktu Północnoatlantyckiego postanowiła rozmieścić w krajach Europy Zachodniej 572 rakiety Pershing II i Tomahawk[24]. Ponadto zwiększył budżet Centralnej Agencji Wywiadowczej i eksport broni dla krajów afrykańskich[25]. Mimo to, zaprzestał finansowania badań nad bronią neutronową, laserową, modernizacją broni jądrowej i produkcją bombowców B-1[26].\n",
            "\n",
            "W 1979 roku doszło do rewolucji w Iranie, kiedy to proamerykański rząd szacha Mohammada Rezy Pahlawiego został obalony[26]. Rząd tymczasowy Szapura Bachtijara nie przetrwał, a władzę przejął ajatollah Ruhollah Chomejni[26]. W wyniku tego przewrotu Stany Zjednoczone utraciły większość wpływów, CIA musiała zlikwidować ośrodki wywiadowcze, a wystąpienie Iranu i Pakistanu z CENTO spowodowało rozpad ważnego dla USA sojuszu wojskowego[26]. 4 listopada 1979 roku, Irańczycy wkroczyli do ambasady USA w Teheranie i wzięli 66 zakładników (sześciu pozostałym członkom personelu udało się uciec i schronić w ambasadzie kanadyjskiej)[17]. Okupanci żądali wydania szacha Pahlawiego, który przebywał na leczeniu w szpitalu w Nowym Jorku[17]. Prezydent postanowił nie uciekać się do interwencji zbrojnej, tylko nacisków dyplomatycznych – nakazał zamrożenie aktywów irańskich i deportację irańskich studentów z USA[17]. Spowodowało to uwolnienie trzynaściorga zakładników[17]. W kwietniu prezydent nakazał przeprowadzić akcję odbicia zakładników, jednak w wyniku usterek technicznych śmigłowców i kolizji jednego z nich z samolotem, zginęło 8 Amerykanów, a 5 zostało rannych[17]. Irańczycy zwolnili kolejnego zakładnika, jednak przetrzymywali jeszcze 52 osoby[17]. Carter wziął na siebie odpowiedzialność za nieudaną operację, natomiast sekretarz stanu Cyrus Vance (który był jej przeciwny) podał się do dymisji[27]. Jego następcą został Edmund Muskie[27]. 27 lipca 1980 zmarł Mohammad Reza Pahlawi, co ułatwiło negocjacje między oboma państwami[27]. W ostatnim dniu prezydentury Cartera, 20 stycznia 1981 roku, USA cofnęły zamrożenie aktywów irańskich, a Irańczycy wypuścili pozostałych zakładników[27].\n",
            "\n",
            "Pod koniec 1979 roku Carter oświadczył, że zamierza ubiegać się o reelekcję[28]. W Partii Demokratycznej wyzwanie rzucili mu senator Ted Kennedy oraz gubernator Kalifornii Pat Brown[29]. Po serii prawyborów (ostatnie w Wisconsin), w których Brown osiągał słabe wyniki, postanowił się wycofać[30]. Na konwencji demokratów, Kennedy także zrezygnował, zatem urzędujący prezydent otrzymał nominację w pierwszym głosowaniu[31]. W Partii Republikańskiej o prezydenturę chciało się ubiegać czterech czołowych polityków: Ronald Reagan, George H.W. Bush, Howard Baker i John Connally[28]. Dużą popularnością cieszył się także John Anderson[32]. Po prawyborach w Wisconsin Conally, Baker, Anderson i kilku innych pretendentów zrezygnowali[30]. Na lipcowej konwencji republikanów w Detroit nominatem został Reagan, który zaproponował Busha, jako kandydata na wiceprezydenta[31]. W głosowaniu powszechnym Reagan uzyskał około 43 miliony głosów, wobec 35 milionów dla Cartera[33]. W Kolegium Elektorskim republikanin otrzymał 489 głosów, a demokrata – 49[33].\n",
            "\n",
            "Po opuszczeniu Białego Domu, osiadł w rodzinnym Plains[34]. Zajął się wówczas pisaniem swoich pamiętników, które zostały wydane w 1982 roku, a także wykładał w Emory University[34]. Ostro krytykował politykę prowadzoną przez Reagana, zwłaszcza w dziedzinie spraw międzynarodowych[34]. W latach 80. i 90. napisał także kilka książek, w tym zbiór poezji i książkę dla dzieci[35]. W 1986 roku otwarto bibliotekę prezydencką Carter Presidental Center[35].\n",
            "\n",
            "Włączał się w działalność charytatywną w ramach działalności Habitat for Humanity[35]. Ponadto brał udział w mediacjach i misjach pokojowych[36]. W 1987 roku udał się na Bliski Wschód, a dwa lata później mediował pokój pomiędzy Etiopią a Frontem Wyzwolenia Erytrei[36]. Podobne funkcje pełnił w Zambii, Sudanie i Panamie[36]. W 1991 roku udał się z wizytą do Chińskiej Republiki Ludowej, a trzy lata później do Korei Północnej, gdzie rozmawiał z Kim Ir Senem[36]. Jesienią 1994 roku udał się na misję pokojową do Haiti, a zimą – na Bałkany[37].\n",
            "\n",
            "3 sierpnia 2015 Carter przeszedł planową operację usunięcia „niewielkiego guza” (small mass) wątroby, a wstępna prognoza dla pełnego wyzdrowienia miała brzmieć „doskonała”. Jednak 12 sierpnia Carter ogłosił, że zdiagnozowano u niego przerzut nowotworu, przy czym nie określono gdzie rak się pojawił[38]. 20 sierpnia ujawnił, że w jego mózgu i wątrobie wykryto czerniaka. Podał on wtedy również, że rozpoczął leczenie pembrolizumabem (lekiem z zakresu immunoterapii) i że wkrótce zaczyna radioterapię. Opieką medyczną Cartera kierowało Emory Healthcare w Atlancie. Zarówno rodzice byłego prezydenta, jak i wszyscy z trojga jego rodzeństwa zachorowali na nowotwór[39].\n",
            "\n",
            "W lutym 2023 fundacja Carter Center poinformowała, że były prezydent będzie przebywał pod domową opieką hospicyjną w rodzinnym Plains[40].\n",
            "\n",
            "Poślubił Rosalynn Smith 7 lipca 1946 roku[6]. Miał trzech synów: Johna Williama (ur. 1947), Jamesa Earla III (ur. 1950) i Donnela Jeffreya (ur. 1952) oraz jedną córkę: Amy Lynn (ur. 1967)[6]. Carter był baptystą[4].\n",
            "\n",
            "Jego imieniem nazwano atomowy okręt podwodny typu Seawolf – USS Jimmy Carter. W 2002 roku został uhonorowany Pokojową Nagrodą Nobla, za działalność na rzecz rozwiązania konfliktów międzynarodowych i propagowanie demokracji i praw człowieka[41].\n",
            "\n",
            "\n",
            "\n",
            "\n",
            "\n",
            "\n",
            "\n",
            "\n",
            "\n",
            "\n",
            "\n",
            "\n",
            "\n",
            "\n",
            "\n",
            "Utwór muzyczny – jednolita kompozycja muzyczna złożona z: rytmu i metrum, melodii, temacie, linii melodycznej, harmonii, barwy dźwięku, dynamiki, agogiki oraz budowy formalnej, przeznaczona do wykonania lub odtwarzania, najczęściej posiadająca autora(-ów). Utwór muzyczny może przyjąć formę tylko muzyczną lub słowno-muzyczną w przypadku, gdy w utworze wykorzystano tekst.\n",
            "\n",
            "W muzyce poważnej utworem nazywa się każde dzieło muzyczne, bez względu na wielkość, ważkość i złożoność. W kontekście muzyki rozrywkowej mianem utworów muzycznych określa się tylko poważniejsze i ambitniejsze dzieła, na przykład utwory jazzowe czy rockowe. Dla prostszych form rezerwuje się określenie „piosenka”, aczkolwiek w sensie prawnym piosenki to również utwory muzyczne a raczej słowno muzyczne z tekstem opartym na linii melodycznej.\n",
            "\n",
            "Utwory muzyczne często oparte są na temacie muzycznym (leitmotivie) stanowiącym podstawę, wokół której budowana jest cała kompozycja.\n",
            "\n",
            "Ukończony utwór muzyczny w zależności od użytych środków kompozytorskich jest bliższym lub dalszym przedstawicielem określonej formy muzycznej.\n",
            "\n",
            "eukarionty\n",
            "\n",
            "zwierzęta\n",
            "\n",
            "strunowce\n",
            "\n",
            "kręgowce\n",
            "\n",
            "zauropsydy\n",
            "\n",
            "diapsydy\n",
            "\n",
            "łuskonośne\n",
            "\n",
            "węże\n",
            "\n",
            "Alethinophidia\n",
            "\n",
            "Colubroidea\n",
            "\n",
            "połozowate\n",
            "\n",
            "ślimaczarze\n",
            "\n",
            "Chironius\n",
            "\n",
            "Chironius multiventris\n",
            "\n",
            "Chironius multiventris – gatunek węża z rodziny połozowatych (Colubridae). Występuje w północnej części Ameryki Południowej, prowadzi dzienny, częściowo nadrzewny tryb życia[3].\n",
            "\n",
            "Takson ten po raz pierwszy zgodnie z zasadami nazewnictwa binominalnego opisali amerykańscy przyrodnicy Karl Patterson Schmidt i Warren Franklin Walker w 1943 roku na łamach „Zoological Series of Field Museum of Zoology”, nadając mu nazwę Chironius multiventris. Holotyp (samica, FMNH 38250)[a] został odłowiony w regionie Madre de Dios w Peru przez pana Valdivię[3][4][5].\n",
            "\n",
            "Jest to średniej wielkości wąż o małej głowie, której szerokość jest podobna do szerokości szyi, dużych oczach o brązowych tęczówkach i dość jednolitym ubarwieniu. Dorosłe osobniki mają barwę od oliwkowej do oliwkowobrązowej. Dolna część głowy jasnobrązowa, brzuch bladożółty. Język różowy z szarą końcówką. Młode osobniki mają ciemnobrązowy, oliwkowobrązowy lub niebieskawobrązowy grzbiet, część z nich ma od 23 do 25 wąskich ciemnych skrzyżowanych pasków w przedniej części ciała i od 14 do 25 słabo widocznych pasków na ogonie. Węże tego gatunku są podobne do Chironius fuscus, Chironius leucometapus i Chironius exoletus[3][7].\n",
            "\n",
            "Wymiary[5][7]:\n",
            "\n",
            "Występuje w amazońskiej części Brazylii, wschodnim Peru i Ekwadorze, południowo-wschodniej Kolumbii, południowej Wenezueli, Boliwii i Gujanie Francuskiej. W Ekwadorze stwierdzono jego występowanie w prowincjach Pastaza, Orellana, Sucumbíos, Morona Santiago, Zamora Chinchipe i Napo. Jest spotykany w przedziale wysokości 0–1070 m n.p.m.[5][7]\n",
            "\n",
            "Gatunek ten zamieszkuje tropikalne wilgotne lasy nizinne w strefie międzyzwrotnikowej. Prowadzą dzienny, mieszany tryb życia naziemny i nadrzewny. W nocy śpią zwinięte na roślinności podszytu. Jego dieta składa się głównie z dorosłych bezogonowych i kijanek (m.in. z rodziny Hylidae, z rodzajów Leptodactylus, Trachycephalus i Eleutherodactylus), obejmuje także jaszczurki (m.in. Anolis, Polychrus, Tropidurus)[5][7].\n",
            "\n",
            "W Czerwonej księdze gatunków zagrożonych IUCN Chironius multiventris jest uznawany za gatunek najmniejszej troski (LC, ang. Least Concern). Wielkość populacji nie jest oszacowana, a gatunek jest stosunkowo pospolity. Trend liczebności populacji jako prawdopodobnie stabilny[2].\n",
            "\n"
          ]
        }
      ]
    },
    {
      "cell_type": "code",
      "source": [
        "\n",
        "parsed"
      ],
      "metadata": {
        "colab": {
          "base_uri": "https://localhost:8080/",
          "height": 183
        },
        "id": "Vxb0Vbaoj698",
        "outputId": "ad63e276-5e69-4e9a-d0d3-86cdcf7ebf30"
      },
      "execution_count": null,
      "outputs": [
        {
          "output_type": "error",
          "ename": "NameError",
          "evalue": "name 'response' is not defined",
          "traceback": [
            "\u001b[0;31m---------------------------------------------------------------------------\u001b[0m",
            "\u001b[0;31mNameError\u001b[0m                                 Traceback (most recent call last)",
            "\u001b[0;32m<ipython-input-3-bee80d57ed7f>\u001b[0m in \u001b[0;36m<cell line: 1>\u001b[0;34m()\u001b[0m\n\u001b[0;32m----> 1\u001b[0;31m \u001b[0mparsed\u001b[0m \u001b[0;34m=\u001b[0m \u001b[0mbs4\u001b[0m\u001b[0;34m.\u001b[0m\u001b[0mBeautifulSoup\u001b[0m\u001b[0;34m(\u001b[0m\u001b[0mresponse\u001b[0m\u001b[0;34m.\u001b[0m\u001b[0mtext\u001b[0m\u001b[0;34m)\u001b[0m\u001b[0;34m\u001b[0m\u001b[0;34m\u001b[0m\u001b[0m\n\u001b[0m\u001b[1;32m      2\u001b[0m \u001b[0mparsed\u001b[0m\u001b[0;34m\u001b[0m\u001b[0;34m\u001b[0m\u001b[0m\n",
            "\u001b[0;31mNameError\u001b[0m: name 'response' is not defined"
          ]
        }
      ]
    },
    {
      "cell_type": "code",
      "source": [],
      "metadata": {
        "colab": {
          "base_uri": "https://localhost:8080/",
          "height": 183
        },
        "id": "XVq16kmRkHFa",
        "outputId": "f3a89fb8-5732-42f6-994a-4700e10009fc"
      },
      "execution_count": null,
      "outputs": [
        {
          "output_type": "error",
          "ename": "NameError",
          "evalue": "name 'parsed' is not defined",
          "traceback": [
            "\u001b[0;31m---------------------------------------------------------------------------\u001b[0m",
            "\u001b[0;31mNameError\u001b[0m                                 Traceback (most recent call last)",
            "\u001b[0;32m<ipython-input-4-d98c11871883>\u001b[0m in \u001b[0;36m<cell line: 1>\u001b[0;34m()\u001b[0m\n\u001b[0;32m----> 1\u001b[0;31m \u001b[0;32mfor\u001b[0m \u001b[0mp\u001b[0m \u001b[0;32min\u001b[0m \u001b[0mparsed\u001b[0m\u001b[0;34m.\u001b[0m\u001b[0mselect\u001b[0m\u001b[0;34m(\u001b[0m\u001b[0;34m'p'\u001b[0m\u001b[0;34m)\u001b[0m\u001b[0;34m:\u001b[0m\u001b[0;34m\u001b[0m\u001b[0;34m\u001b[0m\u001b[0m\n\u001b[0m\u001b[1;32m      2\u001b[0m     \u001b[0mprint\u001b[0m\u001b[0;34m(\u001b[0m\u001b[0mp\u001b[0m\u001b[0;34m.\u001b[0m\u001b[0mgetText\u001b[0m\u001b[0;34m(\u001b[0m\u001b[0;34m)\u001b[0m\u001b[0;34m)\u001b[0m\u001b[0;34m\u001b[0m\u001b[0;34m\u001b[0m\u001b[0m\n",
            "\u001b[0;31mNameError\u001b[0m: name 'parsed' is not defined"
          ]
        }
      ]
    },
    {
      "cell_type": "code",
      "source": [
        "!pip install scrapy"
      ],
      "metadata": {
        "id": "fg3PEA24kZt5",
        "colab": {
          "base_uri": "https://localhost:8080/"
        },
        "outputId": "b06b3345-33f9-468d-86dc-0299d9c87848"
      },
      "execution_count": null,
      "outputs": [
        {
          "output_type": "stream",
          "name": "stdout",
          "text": [
            "Requirement already satisfied: scrapy in /usr/local/lib/python3.10/dist-packages (2.12.0)\n",
            "Requirement already satisfied: Twisted>=21.7.0 in /usr/local/lib/python3.10/dist-packages (from scrapy) (24.11.0)\n",
            "Requirement already satisfied: cryptography>=37.0.0 in /usr/local/lib/python3.10/dist-packages (from scrapy) (43.0.3)\n",
            "Requirement already satisfied: cssselect>=0.9.1 in /usr/local/lib/python3.10/dist-packages (from scrapy) (1.2.0)\n",
            "Requirement already satisfied: itemloaders>=1.0.1 in /usr/local/lib/python3.10/dist-packages (from scrapy) (1.3.2)\n",
            "Requirement already satisfied: parsel>=1.5.0 in /usr/local/lib/python3.10/dist-packages (from scrapy) (1.9.1)\n",
            "Requirement already satisfied: pyOpenSSL>=22.0.0 in /usr/local/lib/python3.10/dist-packages (from scrapy) (24.2.1)\n",
            "Requirement already satisfied: queuelib>=1.4.2 in /usr/local/lib/python3.10/dist-packages (from scrapy) (1.7.0)\n",
            "Requirement already satisfied: service-identity>=18.1.0 in /usr/local/lib/python3.10/dist-packages (from scrapy) (24.2.0)\n",
            "Requirement already satisfied: w3lib>=1.17.0 in /usr/local/lib/python3.10/dist-packages (from scrapy) (2.2.1)\n",
            "Requirement already satisfied: zope.interface>=5.1.0 in /usr/local/lib/python3.10/dist-packages (from scrapy) (7.2)\n",
            "Requirement already satisfied: protego>=0.1.15 in /usr/local/lib/python3.10/dist-packages (from scrapy) (0.3.1)\n",
            "Requirement already satisfied: itemadapter>=0.1.0 in /usr/local/lib/python3.10/dist-packages (from scrapy) (0.10.0)\n",
            "Requirement already satisfied: packaging in /usr/local/lib/python3.10/dist-packages (from scrapy) (24.2)\n",
            "Requirement already satisfied: tldextract in /usr/local/lib/python3.10/dist-packages (from scrapy) (5.1.3)\n",
            "Requirement already satisfied: lxml>=4.6.0 in /usr/local/lib/python3.10/dist-packages (from scrapy) (5.3.0)\n",
            "Requirement already satisfied: defusedxml>=0.7.1 in /usr/local/lib/python3.10/dist-packages (from scrapy) (0.7.1)\n",
            "Requirement already satisfied: PyDispatcher>=2.0.5 in /usr/local/lib/python3.10/dist-packages (from scrapy) (2.0.7)\n",
            "Requirement already satisfied: cffi>=1.12 in /usr/local/lib/python3.10/dist-packages (from cryptography>=37.0.0->scrapy) (1.17.1)\n",
            "Requirement already satisfied: jmespath>=0.9.5 in /usr/local/lib/python3.10/dist-packages (from itemloaders>=1.0.1->scrapy) (1.0.1)\n",
            "Requirement already satisfied: attrs>=19.1.0 in /usr/local/lib/python3.10/dist-packages (from service-identity>=18.1.0->scrapy) (24.3.0)\n",
            "Requirement already satisfied: pyasn1 in /usr/local/lib/python3.10/dist-packages (from service-identity>=18.1.0->scrapy) (0.6.1)\n",
            "Requirement already satisfied: pyasn1-modules in /usr/local/lib/python3.10/dist-packages (from service-identity>=18.1.0->scrapy) (0.4.1)\n",
            "Requirement already satisfied: automat>=24.8.0 in /usr/local/lib/python3.10/dist-packages (from Twisted>=21.7.0->scrapy) (24.8.1)\n",
            "Requirement already satisfied: constantly>=15.1 in /usr/local/lib/python3.10/dist-packages (from Twisted>=21.7.0->scrapy) (23.10.4)\n",
            "Requirement already satisfied: hyperlink>=17.1.1 in /usr/local/lib/python3.10/dist-packages (from Twisted>=21.7.0->scrapy) (21.0.0)\n",
            "Requirement already satisfied: incremental>=24.7.0 in /usr/local/lib/python3.10/dist-packages (from Twisted>=21.7.0->scrapy) (24.7.2)\n",
            "Requirement already satisfied: typing-extensions>=4.2.0 in /usr/local/lib/python3.10/dist-packages (from Twisted>=21.7.0->scrapy) (4.12.2)\n",
            "Requirement already satisfied: setuptools in /usr/local/lib/python3.10/dist-packages (from zope.interface>=5.1.0->scrapy) (75.1.0)\n",
            "Requirement already satisfied: idna in /usr/local/lib/python3.10/dist-packages (from tldextract->scrapy) (3.10)\n",
            "Requirement already satisfied: requests>=2.1.0 in /usr/local/lib/python3.10/dist-packages (from tldextract->scrapy) (2.32.3)\n",
            "Requirement already satisfied: requests-file>=1.4 in /usr/local/lib/python3.10/dist-packages (from tldextract->scrapy) (2.1.0)\n",
            "Requirement already satisfied: filelock>=3.0.8 in /usr/local/lib/python3.10/dist-packages (from tldextract->scrapy) (3.16.1)\n",
            "Requirement already satisfied: pycparser in /usr/local/lib/python3.10/dist-packages (from cffi>=1.12->cryptography>=37.0.0->scrapy) (2.22)\n",
            "Requirement already satisfied: tomli in /usr/local/lib/python3.10/dist-packages (from incremental>=24.7.0->Twisted>=21.7.0->scrapy) (2.2.1)\n",
            "Requirement already satisfied: charset-normalizer<4,>=2 in /usr/local/lib/python3.10/dist-packages (from requests>=2.1.0->tldextract->scrapy) (3.4.0)\n",
            "Requirement already satisfied: urllib3<3,>=1.21.1 in /usr/local/lib/python3.10/dist-packages (from requests>=2.1.0->tldextract->scrapy) (2.2.3)\n",
            "Requirement already satisfied: certifi>=2017.4.17 in /usr/local/lib/python3.10/dist-packages (from requests>=2.1.0->tldextract->scrapy) (2024.12.14)\n"
          ]
        }
      ]
    },
    {
      "cell_type": "code",
      "source": [
        "import requests\n",
        "import bs4\n",
        "import re\n",
        "from time import sleep\n",
        "import random\n",
        "from pathlib import Path\n",
        "\n",
        "import scrapy\n",
        "from scrapy.crawler import CrawlerProcess"
      ],
      "metadata": {
        "id": "bQ1iYF446TgQ"
      },
      "execution_count": null,
      "outputs": []
    },
    {
      "cell_type": "code",
      "source": [
        "class TextSpider(scrapy.Spider):\n",
        "    name = \"quotes\"\n",
        "\n",
        "    def start_requests(self):\n",
        "        urls = [\n",
        "            \"https://pl.wikipedia.org/wiki/Jimmy_Carter\",\n",
        "            \"https://pl.wikipedia.org/wiki/Utw%C3%B3r_muzyczny\",\n",
        "            \"https://pl.wikipedia.org/wiki/Chironius_multiventris\"\n",
        "        ]\n",
        "        for url in urls:\n",
        "            yield scrapy.Request(url=url, callback=self.parse)\n",
        "\n",
        "    def parse(self, response):\n",
        "        for p in response.css(\"span\"):\n",
        "            yield{\n",
        "                \"text\": p.css(\"p.text::text\").get()\n",
        "            }\n",
        "            next_page = response.css(\"li.next a::attr(href)\").get()\n",
        "            if next_page is not None:\n",
        "              yield response.follow(next_page, self.parse)"
      ],
      "metadata": {
        "id": "NSPgrnVT6frC"
      },
      "execution_count": null,
      "outputs": []
    }
  ]
}